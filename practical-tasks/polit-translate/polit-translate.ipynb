{
 "cells": [
  {
   "cell_type": "markdown",
   "metadata": {},
   "source": [
    "## 1. Прочитать русско-английский словарь из файла.\n"
   ]
  },
  {
   "cell_type": "code",
   "execution_count": 5,
   "metadata": {},
   "outputs": [
    {
     "data": {
      "text/plain": [
       "['Я=I',\n",
       " 'ты=you',\n",
       " 'хочу=want',\n",
       " 'хотеть=want',\n",
       " 'хочешь=want',\n",
       " 'перевести=translate',\n",
       " 'переводить=translate',\n",
       " 'текст=text',\n",
       " 'не=not',\n",
       " 'нет=no',\n",
       " 'что-то=something',\n",
       " '']"
      ]
     },
     "execution_count": 5,
     "metadata": {},
     "output_type": "execute_result"
    }
   ],
   "source": [
    "vocabulary_path = './vocabularies/ru-en.txt'\n",
    "file = open(vocabulary_path)\n",
    "file_text = file.read()\n",
    "lines = file_text.split('\\n')\n",
    "lines"
   ]
  },
  {
   "cell_type": "markdown",
   "metadata": {},
   "source": [
    "## 2. Сохранить словарь в переменную, где ключом будет слово на русском, а значенем его перевод на английский."
   ]
  },
  {
   "cell_type": "code",
   "execution_count": 15,
   "metadata": {},
   "outputs": [
    {
     "data": {
      "text/plain": [
       "{'не': 'not',\n",
       " 'нет': 'no',\n",
       " 'перевести': 'translate',\n",
       " 'переводить': 'translate',\n",
       " 'текст': 'text',\n",
       " 'ты': 'you',\n",
       " 'хотеть': 'want',\n",
       " 'хочешь': 'want',\n",
       " 'хочу': 'want',\n",
       " 'что-то': 'something',\n",
       " 'я': 'i'}"
      ]
     },
     "execution_count": 15,
     "metadata": {},
     "output_type": "execute_result"
    }
   ],
   "source": [
    "ru_en_dict = {}\n",
    "for line in lines:\n",
    "    if line:\n",
    "        (ru, en) = line.split('=')\n",
    "        ru_en_dict[ru.lower()] = en.lower()\n",
    "ru_en_dict"
   ]
  },
  {
   "cell_type": "markdown",
   "metadata": {},
   "source": [
    "## 3. Запросить пользователя ввести предложение."
   ]
  },
  {
   "cell_type": "code",
   "execution_count": 16,
   "metadata": {},
   "outputs": [
    {
     "name": "stdout",
     "output_type": "stream",
     "text": [
      "Введите фразу для перевода:\n",
      " >> я хочу перевести что-то\n"
     ]
    }
   ],
   "source": [
    "sentence = input(\"Введите фразу для перевода:\\n >> \")"
   ]
  },
  {
   "cell_type": "markdown",
   "metadata": {},
   "source": [
    "## 4. Разбить предложение на слова.\n"
   ]
  },
  {
   "cell_type": "code",
   "execution_count": 17,
   "metadata": {},
   "outputs": [
    {
     "data": {
      "text/plain": [
       "['я', 'хочу', 'перевести', 'что-то']"
      ]
     },
     "execution_count": 17,
     "metadata": {},
     "output_type": "execute_result"
    }
   ],
   "source": [
    "words = sentence.split(' ')\n",
    "words"
   ]
  },
  {
   "cell_type": "markdown",
   "metadata": {},
   "source": [
    "## 5. Перевести каждое отдельное слово по словарю.\n"
   ]
  },
  {
   "cell_type": "code",
   "execution_count": 18,
   "metadata": {},
   "outputs": [
    {
     "data": {
      "text/plain": [
       "['i', 'want', 'translate', 'something']"
      ]
     },
     "execution_count": 18,
     "metadata": {},
     "output_type": "execute_result"
    }
   ],
   "source": [
    "translated_words = []\n",
    "for w in words:\n",
    "    translated_words.append(ru_en_dict.get(w, w))\n",
    "translated_words"
   ]
  }
 ],
 "metadata": {
  "kernelspec": {
   "display_name": "Python 3",
   "language": "python",
   "name": "python3"
  },
  "language_info": {
   "codemirror_mode": {
    "name": "ipython",
    "version": 3
   },
   "file_extension": ".py",
   "mimetype": "text/x-python",
   "name": "python",
   "nbconvert_exporter": "python",
   "pygments_lexer": "ipython3",
   "version": "3.5.3"
  }
 },
 "nbformat": 4,
 "nbformat_minor": 2
}
